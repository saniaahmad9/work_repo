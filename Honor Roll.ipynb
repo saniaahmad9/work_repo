{
 "cells": [
  {
   "cell_type": "markdown",
   "metadata": {},
   "source": [
    "# Honor Roll "
   ]
  },
  {
   "cell_type": "markdown",
   "metadata": {},
   "source": [
    "## To generate Honor Roll Certificates by Class. Only requires uploading 3 CSV reports from SIS and running them through the script"
   ]
  },
  {
   "cell_type": "code",
   "execution_count": 23,
   "metadata": {},
   "outputs": [],
   "source": [
    "import pandas as pd\n",
    "import numpy as np"
   ]
  },
  {
   "cell_type": "markdown",
   "metadata": {},
   "source": [
    "## Generate All-A Data Frame\n",
    "### Import All_A List - pulled from GRD413"
   ]
  },
  {
   "cell_type": "code",
   "execution_count": 24,
   "metadata": {},
   "outputs": [],
   "source": [
    "All_A_List = pd.read_csv(\"All_A.csv\")"
   ]
  },
  {
   "cell_type": "markdown",
   "metadata": {},
   "source": [
    "### Drop unnecessary columns"
   ]
  },
  {
   "cell_type": "code",
   "execution_count": 25,
   "metadata": {
    "scrolled": true
   },
   "outputs": [
    {
     "data": {
      "text/plain": [
       "Index(['Grade', 'Primary GPA', 'Secondary GPA', 'Student Name', 'Perm ID',\n",
       "       'Gender', 'Credits Attempted', 'Credits Completed', 'Section ID',\n",
       "       'Teacher', 'Room', 'Homeroom Teacher', 'Homeroom Name'],\n",
       "      dtype='object')"
      ]
     },
     "execution_count": 25,
     "metadata": {},
     "output_type": "execute_result"
    }
   ],
   "source": [
    "All_A_List.columns"
   ]
  },
  {
   "cell_type": "code",
   "execution_count": 26,
   "metadata": {},
   "outputs": [],
   "source": [
    "All_A = All_A_List.drop(columns=['Primary GPA', 'Secondary GPA',\n",
    "       'Gender', 'Credits Attempted', 'Credits Completed', 'Section ID',\n",
    "       'Teacher', 'Room', 'Homeroom Teacher', 'Homeroom Name'])"
   ]
  },
  {
   "cell_type": "markdown",
   "metadata": {},
   "source": [
    "### Insert column to distinguish type of Honor Roll distinction"
   ]
  },
  {
   "cell_type": "code",
   "execution_count": 27,
   "metadata": {},
   "outputs": [],
   "source": [
    "All_A['Type'] = 'All-A'"
   ]
  },
  {
   "cell_type": "markdown",
   "metadata": {},
   "source": [
    "### Confirm column was added correctly with correct values"
   ]
  },
  {
   "cell_type": "code",
   "execution_count": 28,
   "metadata": {},
   "outputs": [
    {
     "data": {
      "text/plain": [
       "0    All-A\n",
       "1    All-A\n",
       "2    All-A\n",
       "3    All-A\n",
       "4    All-A\n",
       "Name: Type, dtype: object"
      ]
     },
     "execution_count": 28,
     "metadata": {},
     "output_type": "execute_result"
    }
   ],
   "source": [
    "All_A['Type'].head()"
   ]
  },
  {
   "cell_type": "markdown",
   "metadata": {},
   "source": [
    "## Generate AB Data Frame\n",
    "### Import AB List - pulled from GRD413"
   ]
  },
  {
   "cell_type": "code",
   "execution_count": 29,
   "metadata": {},
   "outputs": [],
   "source": [
    "AB_List = pd.read_csv(\"AB.csv\")"
   ]
  },
  {
   "cell_type": "markdown",
   "metadata": {},
   "source": [
    "### Drop unnecessary columns"
   ]
  },
  {
   "cell_type": "code",
   "execution_count": 30,
   "metadata": {},
   "outputs": [
    {
     "data": {
      "text/plain": [
       "Index(['Grade', 'Primary GPA', 'Secondary GPA', 'Student Name', 'Perm ID',\n",
       "       'Gender', 'Credits Attempted', 'Credits Completed', 'Section ID',\n",
       "       'Teacher', 'Room', 'Homeroom Teacher', 'Homeroom Name'],\n",
       "      dtype='object')"
      ]
     },
     "execution_count": 30,
     "metadata": {},
     "output_type": "execute_result"
    }
   ],
   "source": [
    "AB_List.columns"
   ]
  },
  {
   "cell_type": "code",
   "execution_count": 31,
   "metadata": {},
   "outputs": [],
   "source": [
    "AB = AB_List.drop(columns=['Primary GPA', 'Secondary GPA',\n",
    "       'Gender', 'Credits Attempted', 'Credits Completed', 'Section ID',\n",
    "       'Teacher', 'Room', 'Homeroom Teacher', 'Homeroom Name'])"
   ]
  },
  {
   "cell_type": "markdown",
   "metadata": {},
   "source": [
    "### Insert column to distinguish type of Honor Roll distinction"
   ]
  },
  {
   "cell_type": "code",
   "execution_count": 32,
   "metadata": {},
   "outputs": [],
   "source": [
    "AB['Type'] = 'AB'"
   ]
  },
  {
   "cell_type": "code",
   "execution_count": 33,
   "metadata": {},
   "outputs": [
    {
     "data": {
      "text/plain": [
       "0    AB\n",
       "1    AB\n",
       "2    AB\n",
       "3    AB\n",
       "4    AB\n",
       "Name: Type, dtype: object"
      ]
     },
     "execution_count": 33,
     "metadata": {},
     "output_type": "execute_result"
    }
   ],
   "source": [
    "AB['Type'].head()"
   ]
  },
  {
   "cell_type": "markdown",
   "metadata": {},
   "source": [
    "## Concatenate Data Frames, Confirm if it worked "
   ]
  },
  {
   "cell_type": "code",
   "execution_count": 34,
   "metadata": {},
   "outputs": [],
   "source": [
    "Combined = [All_A, AB]\n",
    "Full_list = pd.concat(Combined)"
   ]
  },
  {
   "cell_type": "code",
   "execution_count": 36,
   "metadata": {},
   "outputs": [
    {
     "data": {
      "text/plain": [
       "0    All-A\n",
       "1    All-A\n",
       "2    All-A\n",
       "3    All-A\n",
       "4    All-A\n",
       "Name: Type, dtype: object"
      ]
     },
     "execution_count": 36,
     "metadata": {},
     "output_type": "execute_result"
    }
   ],
   "source": [
    "Full_list['Type'].head()"
   ]
  },
  {
   "cell_type": "code",
   "execution_count": 37,
   "metadata": {
    "scrolled": true
   },
   "outputs": [
    {
     "data": {
      "text/plain": [
       "334    AB\n",
       "335    AB\n",
       "336    AB\n",
       "337    AB\n",
       "338    AB\n",
       "Name: Type, dtype: object"
      ]
     },
     "execution_count": 37,
     "metadata": {},
     "output_type": "execute_result"
    }
   ],
   "source": [
    "Full_list['Type'].tail()"
   ]
  },
  {
   "cell_type": "markdown",
   "metadata": {},
   "source": [
    "## Generate a Class List Data Frame\n",
    "### Import Class list from STU408"
   ]
  },
  {
   "cell_type": "code",
   "execution_count": 44,
   "metadata": {},
   "outputs": [],
   "source": [
    "class_sheet = pd.read_csv(\"class_list_by_period.csv\")"
   ]
  },
  {
   "cell_type": "markdown",
   "metadata": {},
   "source": [
    "### Drop Unnecessary Columns"
   ]
  },
  {
   "cell_type": "code",
   "execution_count": 45,
   "metadata": {
    "scrolled": false
   },
   "outputs": [
    {
     "data": {
      "text/plain": [
       "Index(['Period', 'Section ID', 'Grd', 'Enter Date', 'Student Name',\n",
       "       'Federal Ethnic Code', 'Student ID', 'Birth Date', 'Home Language',\n",
       "       'Phone', 'State Testing ID', 'Trk', 'House', 'Team', 'Pathways House',\n",
       "       'Pathways Team', 'Counselor', 'Course ID', 'Course Title', 'Staff Name',\n",
       "       'Room Name', 'Student School Year GU', 'Student GU', 'Gen', 'Female',\n",
       "       'Track', 'Male', 'Audit Class', 'Meeting Days'],\n",
       "      dtype='object')"
      ]
     },
     "execution_count": 45,
     "metadata": {},
     "output_type": "execute_result"
    }
   ],
   "source": [
    "class_sheet.columns"
   ]
  },
  {
   "cell_type": "code",
   "execution_count": 46,
   "metadata": {},
   "outputs": [],
   "source": [
    "class_list = class_sheet.drop(columns=['Period', 'Section ID', 'Enter Date',\n",
    "       'Federal Ethnic Code', 'Birth Date', 'Home Language',\n",
    "       'Phone', 'State Testing ID', 'Trk', 'House', 'Team', 'Pathways House',\n",
    "       'Pathways Team', 'Counselor', 'Course ID', 'Student School Year GU', 'Student GU', 'Gen', 'Female',\n",
    "       'Track', 'Male', 'Audit Class', 'Meeting Days'])"
   ]
  },
  {
   "cell_type": "code",
   "execution_count": 47,
   "metadata": {},
   "outputs": [
    {
     "data": {
      "text/plain": [
       "Index(['Grd', 'Student Name', 'Student ID', 'Course Title', 'Staff Name',\n",
       "       'Room Name'],\n",
       "      dtype='object')"
      ]
     },
     "execution_count": 47,
     "metadata": {},
     "output_type": "execute_result"
    }
   ],
   "source": [
    "class_list.columns"
   ]
  },
  {
   "cell_type": "code",
   "execution_count": 48,
   "metadata": {},
   "outputs": [
    {
     "data": {
      "text/html": [
       "<div>\n",
       "<style scoped>\n",
       "    .dataframe tbody tr th:only-of-type {\n",
       "        vertical-align: middle;\n",
       "    }\n",
       "\n",
       "    .dataframe tbody tr th {\n",
       "        vertical-align: top;\n",
       "    }\n",
       "\n",
       "    .dataframe thead th {\n",
       "        text-align: right;\n",
       "    }\n",
       "</style>\n",
       "<table border=\"1\" class=\"dataframe\">\n",
       "  <thead>\n",
       "    <tr style=\"text-align: right;\">\n",
       "      <th></th>\n",
       "      <th>Grd</th>\n",
       "      <th>Student Name</th>\n",
       "      <th>Student ID</th>\n",
       "      <th>Course Title</th>\n",
       "      <th>Staff Name</th>\n",
       "      <th>Room Name</th>\n",
       "    </tr>\n",
       "  </thead>\n",
       "  <tbody>\n",
       "    <tr>\n",
       "      <th>0</th>\n",
       "      <td>7</td>\n",
       "      <td>XXX</td>\n",
       "      <td>1234567</td>\n",
       "      <td>English 7</td>\n",
       "      <td>Teacher X</td>\n",
       "      <td>208</td>\n",
       "    </tr>\n",
       "    <tr>\n",
       "      <th>1</th>\n",
       "      <td>7</td>\n",
       "      <td>XXX</td>\n",
       "      <td>1234567</td>\n",
       "      <td>English 7</td>\n",
       "      <td>Teacher X</td>\n",
       "      <td>208</td>\n",
       "    </tr>\n",
       "    <tr>\n",
       "      <th>2</th>\n",
       "      <td>7</td>\n",
       "      <td>XXX</td>\n",
       "      <td>1234567</td>\n",
       "      <td>English 7</td>\n",
       "      <td>Teacher X</td>\n",
       "      <td>208</td>\n",
       "    </tr>\n",
       "    <tr>\n",
       "      <th>3</th>\n",
       "      <td>7</td>\n",
       "      <td>XXX</td>\n",
       "      <td>1234567</td>\n",
       "      <td>English 7</td>\n",
       "      <td>Teacher X</td>\n",
       "      <td>208</td>\n",
       "    </tr>\n",
       "    <tr>\n",
       "      <th>4</th>\n",
       "      <td>7</td>\n",
       "      <td>XXX</td>\n",
       "      <td>1234567</td>\n",
       "      <td>English 7</td>\n",
       "      <td>Teacher X</td>\n",
       "      <td>208</td>\n",
       "    </tr>\n",
       "  </tbody>\n",
       "</table>\n",
       "</div>"
      ],
      "text/plain": [
       "   Grd Student Name  Student ID Course Title Staff Name Room Name\n",
       "0    7          XXX     1234567    English 7  Teacher X       208\n",
       "1    7          XXX     1234567    English 7  Teacher X       208\n",
       "2    7          XXX     1234567    English 7  Teacher X       208\n",
       "3    7          XXX     1234567    English 7  Teacher X       208\n",
       "4    7          XXX     1234567    English 7  Teacher X       208"
      ]
     },
     "execution_count": 48,
     "metadata": {},
     "output_type": "execute_result"
    }
   ],
   "source": [
    "class_list.head()"
   ]
  },
  {
   "cell_type": "markdown",
   "metadata": {},
   "source": [
    "## Create Merged List"
   ]
  },
  {
   "cell_type": "markdown",
   "metadata": {},
   "source": [
    "### Rename Student ID Columns so that you can Perform a Merge"
   ]
  },
  {
   "cell_type": "code",
   "execution_count": 54,
   "metadata": {},
   "outputs": [
    {
     "data": {
      "text/plain": [
       "Index(['Grd', 'Student Name', 'ID', 'Course Title', 'Staff Name', 'Room Name'], dtype='object')"
      ]
     },
     "execution_count": 54,
     "metadata": {},
     "output_type": "execute_result"
    }
   ],
   "source": [
    "class_list.columns = ['Grd', 'Student Name', 'ID', 'Course Title', 'Staff Name',\n",
    "       'Room Name']\n",
    "class_list.columns"
   ]
  },
  {
   "cell_type": "code",
   "execution_count": 58,
   "metadata": {},
   "outputs": [
    {
     "data": {
      "text/plain": [
       "Index(['Grade', 'Student Name', 'ID', 'Type'], dtype='object')"
      ]
     },
     "execution_count": 58,
     "metadata": {},
     "output_type": "execute_result"
    }
   ],
   "source": [
    "Full_list.columns = ['Grade', 'Student Name', 'ID', 'Type']\n",
    "Full_list.columns"
   ]
  },
  {
   "cell_type": "markdown",
   "metadata": {},
   "source": [
    "### Perform Merge "
   ]
  },
  {
   "cell_type": "code",
   "execution_count": 63,
   "metadata": {
    "scrolled": false
   },
   "outputs": [],
   "source": [
    "merged = Full_list.merge(class_list, how='left',on=[\"ID\"])"
   ]
  },
  {
   "cell_type": "markdown",
   "metadata": {},
   "source": [
    "## Export Completed List to Excel to make Certificates"
   ]
  },
  {
   "cell_type": "code",
   "execution_count": null,
   "metadata": {},
   "outputs": [],
   "source": [
    "merged.to_excel(\"Q1_HR_List.xlsx\") "
   ]
  }
 ],
 "metadata": {
  "kernelspec": {
   "display_name": "Python 3",
   "language": "python",
   "name": "python3"
  },
  "language_info": {
   "codemirror_mode": {
    "name": "ipython",
    "version": 3
   },
   "file_extension": ".py",
   "mimetype": "text/x-python",
   "name": "python",
   "nbconvert_exporter": "python",
   "pygments_lexer": "ipython3",
   "version": "3.7.3"
  }
 },
 "nbformat": 4,
 "nbformat_minor": 2
}
