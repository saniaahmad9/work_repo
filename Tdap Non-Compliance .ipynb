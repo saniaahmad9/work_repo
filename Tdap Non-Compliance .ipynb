{
 "cells": [
  {
   "cell_type": "code",
   "execution_count": 1,
   "metadata": {},
   "outputs": [],
   "source": [
    "import pandas as pd\n",
    "import numpy as np"
   ]
  },
  {
   "cell_type": "markdown",
   "metadata": {},
   "source": [
    "## Import the Tdap List"
   ]
  },
  {
   "cell_type": "code",
   "execution_count": 2,
   "metadata": {},
   "outputs": [],
   "source": [
    "tdap_list = pd.read_csv(\"tdap_list_aug21.csv\")"
   ]
  },
  {
   "cell_type": "code",
   "execution_count": 3,
   "metadata": {
    "scrolled": true
   },
   "outputs": [
    {
     "data": {
      "text/html": [
       "<div>\n",
       "<style scoped>\n",
       "    .dataframe tbody tr th:only-of-type {\n",
       "        vertical-align: middle;\n",
       "    }\n",
       "\n",
       "    .dataframe tbody tr th {\n",
       "        vertical-align: top;\n",
       "    }\n",
       "\n",
       "    .dataframe thead th {\n",
       "        text-align: right;\n",
       "    }\n",
       "</style>\n",
       "<table border=\"1\" class=\"dataframe\">\n",
       "  <thead>\n",
       "    <tr style=\"text-align: right;\">\n",
       "      <th></th>\n",
       "      <th>ID</th>\n",
       "      <th>Student Name</th>\n",
       "      <th>Birth Date</th>\n",
       "      <th>ErrorCode</th>\n",
       "    </tr>\n",
       "  </thead>\n",
       "  <tbody>\n",
       "    <tr>\n",
       "      <th>0</th>\n",
       "      <td>1666381</td>\n",
       "      <td>Abdelgadir, Mohamed H.</td>\n",
       "      <td>5/8/08</td>\n",
       "      <td>1-Missing Tdap Immunization</td>\n",
       "    </tr>\n",
       "    <tr>\n",
       "      <th>1</th>\n",
       "      <td>1666379</td>\n",
       "      <td>Abdelgadir, Muhaid H.</td>\n",
       "      <td>5/8/08</td>\n",
       "      <td>1-Missing Tdap Immunization</td>\n",
       "    </tr>\n",
       "    <tr>\n",
       "      <th>2</th>\n",
       "      <td>1635420</td>\n",
       "      <td>Agge, Chad M.</td>\n",
       "      <td>6/23/08</td>\n",
       "      <td>1-Missing Tdap Immunization</td>\n",
       "    </tr>\n",
       "    <tr>\n",
       "      <th>3</th>\n",
       "      <td>1613430</td>\n",
       "      <td>Alba, Nicole S.</td>\n",
       "      <td>2/27/08</td>\n",
       "      <td>1-Missing Tdap Immunization</td>\n",
       "    </tr>\n",
       "    <tr>\n",
       "      <th>4</th>\n",
       "      <td>1616391</td>\n",
       "      <td>Alemu, Naomi T.</td>\n",
       "      <td>6/10/08</td>\n",
       "      <td>1-Missing Tdap Immunization</td>\n",
       "    </tr>\n",
       "  </tbody>\n",
       "</table>\n",
       "</div>"
      ],
      "text/plain": [
       "        ID            Student Name Birth Date                    ErrorCode\n",
       "0  1666381  Abdelgadir, Mohamed H.     5/8/08  1-Missing Tdap Immunization\n",
       "1  1666379   Abdelgadir, Muhaid H.     5/8/08  1-Missing Tdap Immunization\n",
       "2  1635420           Agge, Chad M.    6/23/08  1-Missing Tdap Immunization\n",
       "3  1613430         Alba, Nicole S.    2/27/08  1-Missing Tdap Immunization\n",
       "4  1616391         Alemu, Naomi T.    6/10/08  1-Missing Tdap Immunization"
      ]
     },
     "execution_count": 3,
     "metadata": {},
     "output_type": "execute_result"
    }
   ],
   "source": [
    "tdap_list.head()"
   ]
  },
  {
   "cell_type": "code",
   "execution_count": 4,
   "metadata": {},
   "outputs": [
    {
     "data": {
      "text/plain": [
       "ID              131\n",
       "Student Name    131\n",
       "Birth Date      131\n",
       "ErrorCode       131\n",
       "dtype: int64"
      ]
     },
     "execution_count": 4,
     "metadata": {},
     "output_type": "execute_result"
    }
   ],
   "source": [
    "tdap_list.count()"
   ]
  },
  {
   "cell_type": "markdown",
   "metadata": {},
   "source": [
    "## Import the Contact List"
   ]
  },
  {
   "cell_type": "code",
   "execution_count": 5,
   "metadata": {},
   "outputs": [
    {
     "data": {
      "text/plain": [
       "Index(['Student Name', 'Student ID', 'Home Language',\n",
       "       'Correspondence Language', 'Email', 'Home Phone', 'Cell Phone'],\n",
       "      dtype='object')"
      ]
     },
     "execution_count": 5,
     "metadata": {},
     "output_type": "execute_result"
    }
   ],
   "source": [
    "contact_list = pd.read_csv(\"parent_contact_list.csv\")\n",
    "contact_list.head()\n",
    "contact_list.columns"
   ]
  },
  {
   "cell_type": "code",
   "execution_count": 6,
   "metadata": {
    "scrolled": true
   },
   "outputs": [
    {
     "data": {
      "text/html": [
       "<div>\n",
       "<style scoped>\n",
       "    .dataframe tbody tr th:only-of-type {\n",
       "        vertical-align: middle;\n",
       "    }\n",
       "\n",
       "    .dataframe tbody tr th {\n",
       "        vertical-align: top;\n",
       "    }\n",
       "\n",
       "    .dataframe thead th {\n",
       "        text-align: right;\n",
       "    }\n",
       "</style>\n",
       "<table border=\"1\" class=\"dataframe\">\n",
       "  <thead>\n",
       "    <tr style=\"text-align: right;\">\n",
       "      <th></th>\n",
       "      <th>Student Name</th>\n",
       "      <th>ID</th>\n",
       "      <th>Home Language</th>\n",
       "      <th>Correspondence Language</th>\n",
       "      <th>Email</th>\n",
       "      <th>Home Phone</th>\n",
       "      <th>Cell Phone</th>\n",
       "    </tr>\n",
       "  </thead>\n",
       "  <tbody>\n",
       "    <tr>\n",
       "      <th>0</th>\n",
       "      <td>Abdelgadir, Mohamed H.</td>\n",
       "      <td>1666381</td>\n",
       "      <td>English</td>\n",
       "      <td>English</td>\n",
       "      <td>haithamh@hotmail.com</td>\n",
       "      <td>571-619-4211</td>\n",
       "      <td>*571-619-4211</td>\n",
       "    </tr>\n",
       "    <tr>\n",
       "      <th>1</th>\n",
       "      <td>Abdelgadir, Muhaid H.</td>\n",
       "      <td>1666379</td>\n",
       "      <td>English</td>\n",
       "      <td>English</td>\n",
       "      <td>haithamh@hotmail.com</td>\n",
       "      <td>571-619-4211</td>\n",
       "      <td>*571-619-4211</td>\n",
       "    </tr>\n",
       "    <tr>\n",
       "      <th>2</th>\n",
       "      <td>Abdelkader, Farah A.</td>\n",
       "      <td>1633384</td>\n",
       "      <td>Arabic</td>\n",
       "      <td>Arabic</td>\n",
       "      <td>afifiwafaa@gmail.com</td>\n",
       "      <td>NaN</td>\n",
       "      <td>*202-823-8222</td>\n",
       "    </tr>\n",
       "    <tr>\n",
       "      <th>3</th>\n",
       "      <td>Abdou, Douaa E.</td>\n",
       "      <td>1615539</td>\n",
       "      <td>Arabic</td>\n",
       "      <td>Arabic</td>\n",
       "      <td>krami2006@gmail.com</td>\n",
       "      <td>703-921-1805</td>\n",
       "      <td>*703-477-9834</td>\n",
       "    </tr>\n",
       "    <tr>\n",
       "      <th>4</th>\n",
       "      <td>Abdul-Mohsen, Rayan A.</td>\n",
       "      <td>1627439</td>\n",
       "      <td>English</td>\n",
       "      <td>English</td>\n",
       "      <td>karrafat@yahoo.com</td>\n",
       "      <td>NaN</td>\n",
       "      <td>202-730-5048</td>\n",
       "    </tr>\n",
       "  </tbody>\n",
       "</table>\n",
       "</div>"
      ],
      "text/plain": [
       "             Student Name       ID Home Language Correspondence Language  \\\n",
       "0  Abdelgadir, Mohamed H.  1666381       English                 English   \n",
       "1   Abdelgadir, Muhaid H.  1666379       English                 English   \n",
       "2    Abdelkader, Farah A.  1633384        Arabic                  Arabic   \n",
       "3         Abdou, Douaa E.  1615539        Arabic                  Arabic   \n",
       "4  Abdul-Mohsen, Rayan A.  1627439       English                 English   \n",
       "\n",
       "                  Email    Home Phone     Cell Phone  \n",
       "0  haithamh@hotmail.com  571-619-4211  *571-619-4211  \n",
       "1  haithamh@hotmail.com  571-619-4211  *571-619-4211  \n",
       "2  afifiwafaa@gmail.com           NaN  *202-823-8222  \n",
       "3   krami2006@gmail.com  703-921-1805  *703-477-9834  \n",
       "4    karrafat@yahoo.com           NaN   202-730-5048  "
      ]
     },
     "execution_count": 6,
     "metadata": {},
     "output_type": "execute_result"
    }
   ],
   "source": [
    "contact_list = pd.read_csv(\"parent_contact_list.csv\")\n",
    "contact_list.columns = ['Student Name', 'ID', 'Home Language',\n",
    "       'Correspondence Language', 'Email', 'Home Phone', 'Cell Phone']\n",
    "contact_list.head()"
   ]
  },
  {
   "cell_type": "markdown",
   "metadata": {},
   "source": [
    "## Do the Merge on \"ID\", Confirm Row Count"
   ]
  },
  {
   "cell_type": "code",
   "execution_count": 7,
   "metadata": {
    "scrolled": true
   },
   "outputs": [
    {
     "data": {
      "text/plain": [
       "ID                         131\n",
       "Student Name_x             131\n",
       "Birth Date                 131\n",
       "ErrorCode                  131\n",
       "Student Name_y             131\n",
       "Home Language              131\n",
       "Correspondence Language    125\n",
       "Email                      122\n",
       "Home Phone                  88\n",
       "Cell Phone                 127\n",
       "dtype: int64"
      ]
     },
     "execution_count": 7,
     "metadata": {},
     "output_type": "execute_result"
    }
   ],
   "source": [
    "merged = tdap_list.merge(contact_list, how='left',on=[\"ID\"])\n",
    "merged.count()"
   ]
  },
  {
   "cell_type": "code",
   "execution_count": 8,
   "metadata": {},
   "outputs": [
    {
     "data": {
      "text/html": [
       "<div>\n",
       "<style scoped>\n",
       "    .dataframe tbody tr th:only-of-type {\n",
       "        vertical-align: middle;\n",
       "    }\n",
       "\n",
       "    .dataframe tbody tr th {\n",
       "        vertical-align: top;\n",
       "    }\n",
       "\n",
       "    .dataframe thead th {\n",
       "        text-align: right;\n",
       "    }\n",
       "</style>\n",
       "<table border=\"1\" class=\"dataframe\">\n",
       "  <thead>\n",
       "    <tr style=\"text-align: right;\">\n",
       "      <th></th>\n",
       "      <th>ID</th>\n",
       "      <th>Student Name_x</th>\n",
       "      <th>Birth Date</th>\n",
       "      <th>ErrorCode</th>\n",
       "      <th>Student Name_y</th>\n",
       "      <th>Home Language</th>\n",
       "      <th>Correspondence Language</th>\n",
       "      <th>Email</th>\n",
       "      <th>Home Phone</th>\n",
       "      <th>Cell Phone</th>\n",
       "    </tr>\n",
       "  </thead>\n",
       "  <tbody>\n",
       "    <tr>\n",
       "      <th>0</th>\n",
       "      <td>1666381</td>\n",
       "      <td>Abdelgadir, Mohamed H.</td>\n",
       "      <td>5/8/08</td>\n",
       "      <td>1-Missing Tdap Immunization</td>\n",
       "      <td>Abdelgadir, Mohamed H.</td>\n",
       "      <td>English</td>\n",
       "      <td>English</td>\n",
       "      <td>haithamh@hotmail.com</td>\n",
       "      <td>571-619-4211</td>\n",
       "      <td>*571-619-4211</td>\n",
       "    </tr>\n",
       "    <tr>\n",
       "      <th>1</th>\n",
       "      <td>1666379</td>\n",
       "      <td>Abdelgadir, Muhaid H.</td>\n",
       "      <td>5/8/08</td>\n",
       "      <td>1-Missing Tdap Immunization</td>\n",
       "      <td>Abdelgadir, Muhaid H.</td>\n",
       "      <td>English</td>\n",
       "      <td>English</td>\n",
       "      <td>haithamh@hotmail.com</td>\n",
       "      <td>571-619-4211</td>\n",
       "      <td>*571-619-4211</td>\n",
       "    </tr>\n",
       "    <tr>\n",
       "      <th>2</th>\n",
       "      <td>1635420</td>\n",
       "      <td>Agge, Chad M.</td>\n",
       "      <td>6/23/08</td>\n",
       "      <td>1-Missing Tdap Immunization</td>\n",
       "      <td>Agge, Chad M.</td>\n",
       "      <td>Tagalog/Pilipino</td>\n",
       "      <td>English</td>\n",
       "      <td>eufrice1912@gmail.com</td>\n",
       "      <td>703-296-7471</td>\n",
       "      <td>*703-296-7471</td>\n",
       "    </tr>\n",
       "    <tr>\n",
       "      <th>3</th>\n",
       "      <td>1613430</td>\n",
       "      <td>Alba, Nicole S.</td>\n",
       "      <td>2/27/08</td>\n",
       "      <td>1-Missing Tdap Immunization</td>\n",
       "      <td>Alba, Nicole S.</td>\n",
       "      <td>Spanish</td>\n",
       "      <td>Spanish</td>\n",
       "      <td>noemivargas27@hotmail.com</td>\n",
       "      <td>*703-866-1206</td>\n",
       "      <td>*571-315-3342</td>\n",
       "    </tr>\n",
       "    <tr>\n",
       "      <th>4</th>\n",
       "      <td>1616391</td>\n",
       "      <td>Alemu, Naomi T.</td>\n",
       "      <td>6/10/08</td>\n",
       "      <td>1-Missing Tdap Immunization</td>\n",
       "      <td>Alemu, Naomi T.</td>\n",
       "      <td>Amharic</td>\n",
       "      <td>English</td>\n",
       "      <td>tedla19@gmail.com</td>\n",
       "      <td>*571-213-6388</td>\n",
       "      <td>NaN</td>\n",
       "    </tr>\n",
       "  </tbody>\n",
       "</table>\n",
       "</div>"
      ],
      "text/plain": [
       "        ID          Student Name_x Birth Date                    ErrorCode  \\\n",
       "0  1666381  Abdelgadir, Mohamed H.     5/8/08  1-Missing Tdap Immunization   \n",
       "1  1666379   Abdelgadir, Muhaid H.     5/8/08  1-Missing Tdap Immunization   \n",
       "2  1635420           Agge, Chad M.    6/23/08  1-Missing Tdap Immunization   \n",
       "3  1613430         Alba, Nicole S.    2/27/08  1-Missing Tdap Immunization   \n",
       "4  1616391         Alemu, Naomi T.    6/10/08  1-Missing Tdap Immunization   \n",
       "\n",
       "           Student Name_y     Home Language Correspondence Language  \\\n",
       "0  Abdelgadir, Mohamed H.           English                 English   \n",
       "1   Abdelgadir, Muhaid H.           English                 English   \n",
       "2           Agge, Chad M.  Tagalog/Pilipino                 English   \n",
       "3         Alba, Nicole S.           Spanish                 Spanish   \n",
       "4         Alemu, Naomi T.           Amharic                 English   \n",
       "\n",
       "                       Email     Home Phone     Cell Phone  \n",
       "0       haithamh@hotmail.com   571-619-4211  *571-619-4211  \n",
       "1       haithamh@hotmail.com   571-619-4211  *571-619-4211  \n",
       "2      eufrice1912@gmail.com   703-296-7471  *703-296-7471  \n",
       "3  noemivargas27@hotmail.com  *703-866-1206  *571-315-3342  \n",
       "4          tedla19@gmail.com  *571-213-6388            NaN  "
      ]
     },
     "execution_count": 8,
     "metadata": {},
     "output_type": "execute_result"
    }
   ],
   "source": [
    "merged.head()"
   ]
  },
  {
   "cell_type": "markdown",
   "metadata": {},
   "source": [
    "## Create a \"Call List\""
   ]
  },
  {
   "cell_type": "code",
   "execution_count": 9,
   "metadata": {},
   "outputs": [
    {
     "data": {
      "text/html": [
       "<div>\n",
       "<style scoped>\n",
       "    .dataframe tbody tr th:only-of-type {\n",
       "        vertical-align: middle;\n",
       "    }\n",
       "\n",
       "    .dataframe tbody tr th {\n",
       "        vertical-align: top;\n",
       "    }\n",
       "\n",
       "    .dataframe thead th {\n",
       "        text-align: right;\n",
       "    }\n",
       "</style>\n",
       "<table border=\"1\" class=\"dataframe\">\n",
       "  <thead>\n",
       "    <tr style=\"text-align: right;\">\n",
       "      <th></th>\n",
       "      <th>ID</th>\n",
       "      <th>Student Name_x</th>\n",
       "      <th>Home Language</th>\n",
       "      <th>Correspondence Language</th>\n",
       "      <th>Email</th>\n",
       "      <th>Home Phone</th>\n",
       "      <th>Cell Phone</th>\n",
       "    </tr>\n",
       "  </thead>\n",
       "  <tbody>\n",
       "    <tr>\n",
       "      <th>0</th>\n",
       "      <td>1666381</td>\n",
       "      <td>Abdelgadir, Mohamed H.</td>\n",
       "      <td>English</td>\n",
       "      <td>English</td>\n",
       "      <td>haithamh@hotmail.com</td>\n",
       "      <td>571-619-4211</td>\n",
       "      <td>*571-619-4211</td>\n",
       "    </tr>\n",
       "    <tr>\n",
       "      <th>1</th>\n",
       "      <td>1666379</td>\n",
       "      <td>Abdelgadir, Muhaid H.</td>\n",
       "      <td>English</td>\n",
       "      <td>English</td>\n",
       "      <td>haithamh@hotmail.com</td>\n",
       "      <td>571-619-4211</td>\n",
       "      <td>*571-619-4211</td>\n",
       "    </tr>\n",
       "    <tr>\n",
       "      <th>2</th>\n",
       "      <td>1635420</td>\n",
       "      <td>Agge, Chad M.</td>\n",
       "      <td>Tagalog/Pilipino</td>\n",
       "      <td>English</td>\n",
       "      <td>eufrice1912@gmail.com</td>\n",
       "      <td>703-296-7471</td>\n",
       "      <td>*703-296-7471</td>\n",
       "    </tr>\n",
       "    <tr>\n",
       "      <th>3</th>\n",
       "      <td>1613430</td>\n",
       "      <td>Alba, Nicole S.</td>\n",
       "      <td>Spanish</td>\n",
       "      <td>Spanish</td>\n",
       "      <td>noemivargas27@hotmail.com</td>\n",
       "      <td>*703-866-1206</td>\n",
       "      <td>*571-315-3342</td>\n",
       "    </tr>\n",
       "    <tr>\n",
       "      <th>4</th>\n",
       "      <td>1616391</td>\n",
       "      <td>Alemu, Naomi T.</td>\n",
       "      <td>Amharic</td>\n",
       "      <td>English</td>\n",
       "      <td>tedla19@gmail.com</td>\n",
       "      <td>*571-213-6388</td>\n",
       "      <td>NaN</td>\n",
       "    </tr>\n",
       "  </tbody>\n",
       "</table>\n",
       "</div>"
      ],
      "text/plain": [
       "        ID          Student Name_x     Home Language Correspondence Language  \\\n",
       "0  1666381  Abdelgadir, Mohamed H.           English                 English   \n",
       "1  1666379   Abdelgadir, Muhaid H.           English                 English   \n",
       "2  1635420           Agge, Chad M.  Tagalog/Pilipino                 English   \n",
       "3  1613430         Alba, Nicole S.           Spanish                 Spanish   \n",
       "4  1616391         Alemu, Naomi T.           Amharic                 English   \n",
       "\n",
       "                       Email     Home Phone     Cell Phone  \n",
       "0       haithamh@hotmail.com   571-619-4211  *571-619-4211  \n",
       "1       haithamh@hotmail.com   571-619-4211  *571-619-4211  \n",
       "2      eufrice1912@gmail.com   703-296-7471  *703-296-7471  \n",
       "3  noemivargas27@hotmail.com  *703-866-1206  *571-315-3342  \n",
       "4          tedla19@gmail.com  *571-213-6388            NaN  "
      ]
     },
     "execution_count": 9,
     "metadata": {},
     "output_type": "execute_result"
    }
   ],
   "source": [
    "call_list = merged.drop(['Birth Date','Student Name_y','ErrorCode'], axis=1)\n",
    "call_list.head()"
   ]
  },
  {
   "cell_type": "markdown",
   "metadata": {},
   "source": [
    "## Export Call List from Data Frame to Excel "
   ]
  },
  {
   "cell_type": "code",
   "execution_count": 10,
   "metadata": {},
   "outputs": [],
   "source": [
    "call_list.to_excel(\"current_tdap_list.xlsx\") "
   ]
  },
  {
   "cell_type": "markdown",
   "metadata": {},
   "source": [
    "## Drop Columns and Create eNotify Spreadsheet"
   ]
  },
  {
   "cell_type": "code",
   "execution_count": 11,
   "metadata": {
    "scrolled": true
   },
   "outputs": [
    {
     "data": {
      "text/plain": [
       "Index(['ID', 'Student Name_x', 'Birth Date', 'ErrorCode', 'Student Name_y',\n",
       "       'Home Language', 'Correspondence Language', 'Email', 'Home Phone',\n",
       "       'Cell Phone'],\n",
       "      dtype='object')"
      ]
     },
     "execution_count": 11,
     "metadata": {},
     "output_type": "execute_result"
    }
   ],
   "source": [
    "merged.columns "
   ]
  },
  {
   "cell_type": "code",
   "execution_count": 12,
   "metadata": {},
   "outputs": [
    {
     "data": {
      "text/plain": [
       "ID                131\n",
       "Student Name_x    131\n",
       "Email             122\n",
       "Home Phone         88\n",
       "Cell Phone        127\n",
       "dtype: int64"
      ]
     },
     "execution_count": 12,
     "metadata": {},
     "output_type": "execute_result"
    }
   ],
   "source": [
    "enotify_list = merged.drop(['Birth Date', 'ErrorCode', 'Student Name_y',\n",
    "       'Home Language', 'Correspondence Language'], axis=1)\n",
    "enotify_list.head()\n",
    "enotify_list.count()"
   ]
  },
  {
   "cell_type": "markdown",
   "metadata": {},
   "source": [
    "## Export eNotify to CSV"
   ]
  },
  {
   "cell_type": "code",
   "execution_count": 14,
   "metadata": {},
   "outputs": [],
   "source": [
    "enotify_list.to_csv(\"enotify_list_8-21.csv\")"
   ]
  },
  {
   "cell_type": "code",
   "execution_count": null,
   "metadata": {},
   "outputs": [],
   "source": []
  }
 ],
 "metadata": {
  "kernelspec": {
   "display_name": "Python 3",
   "language": "python",
   "name": "python3"
  },
  "language_info": {
   "codemirror_mode": {
    "name": "ipython",
    "version": 3
   },
   "file_extension": ".py",
   "mimetype": "text/x-python",
   "name": "python",
   "nbconvert_exporter": "python",
   "pygments_lexer": "ipython3",
   "version": "3.7.3"
  }
 },
 "nbformat": 4,
 "nbformat_minor": 2
}
