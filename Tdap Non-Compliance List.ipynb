{
 "cells": [
  {
   "cell_type": "markdown",
   "metadata": {},
   "source": [
    "# Tdap Non-Compliance \n",
    "## Create a Call Sheet to Track Tdaps and eNotify List for Weekly Callouts"
   ]
  },
  {
   "cell_type": "code",
   "execution_count": 1,
   "metadata": {},
   "outputs": [],
   "source": [
    "import pandas as pd\n",
    "import numpy as np"
   ]
  },
  {
   "cell_type": "markdown",
   "metadata": {},
   "source": [
    "## Import the Tdap List\n",
    "### Use U_AHLT001"
   ]
  },
  {
   "cell_type": "code",
   "execution_count": 14,
   "metadata": {},
   "outputs": [],
   "source": [
    "sept_24_list = pd.read_csv(\"tdap_list_sept_24.csv\")"
   ]
  },
  {
   "cell_type": "code",
   "execution_count": 15,
   "metadata": {},
   "outputs": [
    {
     "data": {
      "text/plain": [
       "Index(['School', 'ID', 'Student Name', 'Grade', 'Teacher', 'Birth Date',\n",
       "       'Vaccine', 'Exemption', 'Comment', '1st Vaccine Date',\n",
       "       '2nd Vaccine Date', '3rd Vaccine Date', 'ErrorCode'],\n",
       "      dtype='object')"
      ]
     },
     "execution_count": 15,
     "metadata": {},
     "output_type": "execute_result"
    }
   ],
   "source": [
    "sept_24_list.columns "
   ]
  },
  {
   "cell_type": "code",
   "execution_count": 16,
   "metadata": {},
   "outputs": [],
   "source": [
    "tdap_list = sept_24_list.drop(columns=['School','Grade', 'Teacher','Comment', '1st Vaccine Date',\n",
    "       '2nd Vaccine Date', '3rd Vaccine Date', 'ErrorCode'])"
   ]
  },
  {
   "cell_type": "markdown",
   "metadata": {},
   "source": [
    "## Import the Contact List"
   ]
  },
  {
   "cell_type": "code",
   "execution_count": 9,
   "metadata": {},
   "outputs": [
    {
     "data": {
      "text/plain": [
       "Index(['Student Name', 'Student ID', 'Grade', 'Gender', 'Home Language',\n",
       "       'Correspondence Language', 'Teacher', 'Counselor', 'Parent Name',\n",
       "       'Adult ID', 'Relation Type', 'Contact Allowed', 'Records Access',\n",
       "       'Has Custody', 'Lives With', 'Extra Mailing', 'Enrolling Parent',\n",
       "       'Release To', 'Deceased', 'Military Compact', 'Paperless', 'Email',\n",
       "       'Mailing Address', 'Home Phone', 'Work Phone', 'Cell Phone', 'Username',\n",
       "       'Last Login Date', 'Number of Logins', 'Online Intent Submission'],\n",
       "      dtype='object')"
      ]
     },
     "execution_count": 9,
     "metadata": {},
     "output_type": "execute_result"
    }
   ],
   "source": [
    "contact_list = pd.read_csv(\"parent_contact_list.csv\")\n",
    "contact_list.head()\n",
    "contact_list.columns"
   ]
  },
  {
   "cell_type": "code",
   "execution_count": 10,
   "metadata": {},
   "outputs": [],
   "source": [
    "parent_contact = contact_list.drop(columns=['Grade', 'Gender', 'Teacher', 'Counselor',\n",
    "       'Adult ID', 'Relation Type', 'Contact Allowed', 'Records Access',\n",
    "       'Has Custody', 'Lives With', 'Extra Mailing', 'Enrolling Parent',\n",
    "       'Release To', 'Deceased', 'Military Compact', 'Paperless',\n",
    "       'Mailing Address', 'Username','Last Login Date', 'Number of Logins', 'Online Intent Submission'])"
   ]
  },
  {
   "cell_type": "code",
   "execution_count": 13,
   "metadata": {},
   "outputs": [
    {
     "data": {
      "text/plain": [
       "Index(['Student Name', 'ID', 'Home Language', 'Correspondence Language',\n",
       "       'Parent Name', 'Email', 'Home Phone', 'Work Phone', 'Cell Phone'],\n",
       "      dtype='object')"
      ]
     },
     "execution_count": 13,
     "metadata": {},
     "output_type": "execute_result"
    }
   ],
   "source": [
    "parent_contact.columns = ['Student Name', 'ID', 'Home Language',\n",
    "       'Correspondence Language', 'Parent Name', 'Email', 'Home Phone',\n",
    "       'Work Phone', 'Cell Phone']\n",
    "parent_contact.columns"
   ]
  },
  {
   "cell_type": "markdown",
   "metadata": {},
   "source": [
    "## Do the Merge on \"ID\", Confirm Row Count"
   ]
  },
  {
   "cell_type": "code",
   "execution_count": 21,
   "metadata": {
    "scrolled": true
   },
   "outputs": [
    {
     "data": {
      "text/plain": [
       "Index(['ID', 'Student Name_x', 'Birth Date', 'Vaccine', 'Exemption',\n",
       "       'Student Name_y', 'Home Language', 'Correspondence Language',\n",
       "       'Parent Name', 'Email', 'Home Phone', 'Work Phone', 'Cell Phone'],\n",
       "      dtype='object')"
      ]
     },
     "execution_count": 21,
     "metadata": {},
     "output_type": "execute_result"
    }
   ],
   "source": [
    "tdap_callsheet = tdap_list.merge(parent_contact, how='left',on=[\"ID\"])\n",
    "tdap_callsheet.columns"
   ]
  },
  {
   "cell_type": "code",
   "execution_count": 25,
   "metadata": {},
   "outputs": [
    {
     "data": {
      "text/plain": [
       "Index(['ID', 'Student Name_x', 'Birth Date', 'Vaccine', 'Exemption',\n",
       "       'Home Language', 'Correspondence Language', 'Parent Name', 'Email',\n",
       "       'Home Phone', 'Work Phone', 'Cell Phone'],\n",
       "      dtype='object')"
      ]
     },
     "execution_count": 25,
     "metadata": {},
     "output_type": "execute_result"
    }
   ],
   "source": [
    "call_sheet = tdap_callsheet.drop(columns=['Student Name_y'])\n",
    "call_sheet.columns"
   ]
  },
  {
   "cell_type": "markdown",
   "metadata": {},
   "source": [
    "## Export Call List from Data Frame to Excel "
   ]
  },
  {
   "cell_type": "code",
   "execution_count": 10,
   "metadata": {},
   "outputs": [],
   "source": [
    "call_sheet.to_excel(\"current_tdap_list.xlsx\") "
   ]
  },
  {
   "cell_type": "markdown",
   "metadata": {},
   "source": [
    "## Create eNotify Spreadsheet, Drop Unnecessary Columns"
   ]
  },
  {
   "cell_type": "code",
   "execution_count": 30,
   "metadata": {},
   "outputs": [
    {
     "data": {
      "text/plain": [
       "Index(['ID', 'Student Name_x', 'Email', 'Home Phone', 'Work Phone',\n",
       "       'Cell Phone'],\n",
       "      dtype='object')"
      ]
     },
     "execution_count": 30,
     "metadata": {},
     "output_type": "execute_result"
    }
   ],
   "source": [
    "eNotify = call_sheet.drop(['Birth Date', 'Vaccine', 'Exemption',\n",
    "       'Home Language', 'Correspondence Language', 'Parent Name'], axis=1)\n",
    "eNotify.columns"
   ]
  },
  {
   "cell_type": "markdown",
   "metadata": {},
   "source": [
    "## Export eNotify to CSV"
   ]
  },
  {
   "cell_type": "code",
   "execution_count": 14,
   "metadata": {},
   "outputs": [],
   "source": [
    "eNotify.to_csv(\"enotify_list_9-24.csv\")"
   ]
  }
 ],
 "metadata": {
  "kernelspec": {
   "display_name": "Python 3",
   "language": "python",
   "name": "python3"
  },
  "language_info": {
   "codemirror_mode": {
    "name": "ipython",
    "version": 3
   },
   "file_extension": ".py",
   "mimetype": "text/x-python",
   "name": "python",
   "nbconvert_exporter": "python",
   "pygments_lexer": "ipython3",
   "version": "3.7.3"
  }
 },
 "nbformat": 4,
 "nbformat_minor": 2
}
